{
 "cells": [
  {
   "cell_type": "code",
   "execution_count": 2,
   "id": "7081dd20",
   "metadata": {},
   "outputs": [
    {
     "name": "stdout",
     "output_type": "stream",
     "text": [
      "Hello I am Mohammad Haris Nadeem\n"
     ]
    }
   ],
   "source": [
    "print(\"Hello I am Mohammad Haris Nadeem\");"
   ]
  },
  {
   "cell_type": "code",
   "execution_count": 2,
   "id": "26b88e2d",
   "metadata": {},
   "outputs": [
    {
     "ename": "SyntaxError",
     "evalue": "invalid syntax (<ipython-input-2-6536369a03ce>, line 5)",
     "output_type": "error",
     "traceback": [
      "\u001b[1;36m  File \u001b[1;32m\"<ipython-input-2-6536369a03ce>\"\u001b[1;36m, line \u001b[1;32m5\u001b[0m\n\u001b[1;33m    elif percentage <90 and percentage > 80 :\u001b[0m\n\u001b[1;37m    ^\u001b[0m\n\u001b[1;31mSyntaxError\u001b[0m\u001b[1;31m:\u001b[0m invalid syntax\n"
     ]
    }
   ],
   "source": [
    "percentage = 55;\n",
    "if percentage <100 and percentage > 90 :\n",
    "    print(\"A+\");\n",
    "    \n",
    "    elif percentage <90 and percentage > 80 :\n",
    "        print(\"A1\");\n",
    "        \n",
    "    elif percentage <80 and percentage > 70 :\n",
    "        print(\"A\");\n",
    "        \n",
    "    elif percentage <70 and percentage > 60 :\n",
    "        print(\"B\");\n",
    "        \n",
    "    elif percentage <60 and percentage > 50 :\n",
    "        print(\"C\");\n",
    "        \n",
    "    elif percentage < 0 :\n",
    "        print(\"Do not write the wrong Percentage\");\n",
    "        \n",
    "    elif percentage > 100 :\n",
    "        print(\"Do not write the wrong Percentage\");\n",
    "        \n",
    "else:\n",
    "    print(\"FAIL\");"
   ]
  },
  {
   "cell_type": "code",
   "execution_count": 3,
   "id": "5ab619f3",
   "metadata": {},
   "outputs": [
    {
     "name": "stdout",
     "output_type": "stream",
     "text": [
      "[7, 17]\n"
     ]
    }
   ],
   "source": [
    "a1 = [7,17];\n",
    "\n",
    "print(a1);"
   ]
  },
  {
   "cell_type": "code",
   "execution_count": 5,
   "id": "19a4c14e",
   "metadata": {},
   "outputs": [
    {
     "name": "stdout",
     "output_type": "stream",
     "text": [
      "Enter any numberHarry\n",
      "Harry\n"
     ]
    }
   ],
   "source": [
    "arr = input(\"Enter any number\");\n",
    "\n",
    "print(arr);"
   ]
  },
  {
   "cell_type": "code",
   "execution_count": 10,
   "id": "5859f883",
   "metadata": {},
   "outputs": [
    {
     "name": "stdout",
     "output_type": "stream",
     "text": [
      "Enter your percentage: 117\n",
      "FAIL\n"
     ]
    }
   ],
   "source": [
    "percent = int(input(\"Enter your percentage: \"));\n",
    "\n",
    "if percent>=90 and percent<=100:\n",
    "    print(\"A+\");\n",
    "elif percent>=80 and percent<=89:\n",
    "    print(\"A1\");\n",
    "elif percent>=70 and percent<=79:\n",
    "    print(\"A\");\n",
    "elif percent>=60 and percent<=69:\n",
    "    print(\"B\");\n",
    "elif percent>=50 and percent<=59:\n",
    "    print(\"C\");    \n",
    "else:\n",
    "        print(\"FAIL\");"
   ]
  },
  {
   "cell_type": "code",
   "execution_count": 13,
   "id": "acb9934b",
   "metadata": {},
   "outputs": [
    {
     "name": "stdout",
     "output_type": "stream",
     "text": [
      "Harry Maheen Areesha Urooj\n"
     ]
    }
   ],
   "source": [
    "n1 = \"Harry\";\n",
    "n2 = \"Maheen\";\n",
    "n3 = \"Areesha\";\n",
    "n4 = \"Urooj\";\n",
    "\n",
    "print(n1 , n2 , n3 , n4);"
   ]
  },
  {
   "cell_type": "code",
   "execution_count": 15,
   "id": "9ad806a5",
   "metadata": {},
   "outputs": [
    {
     "name": "stdout",
     "output_type": "stream",
     "text": [
      "Areesha\n"
     ]
    }
   ],
   "source": [
    "name = ['Harry', 'Maheen', 'Areesha', 'Urooj', 'Arooba'];\n",
    "\n",
    "print(name[2]);"
   ]
  },
  {
   "cell_type": "code",
   "execution_count": 17,
   "id": "442f8df6",
   "metadata": {},
   "outputs": [
    {
     "name": "stdout",
     "output_type": "stream",
     "text": [
      "['Harry', 'Harry', 'Maheen', 'Areesha', 'Urooj', 'Arooba', 'Harry']\n"
     ]
    }
   ],
   "source": [
    "name.insert(1,'Harry');\n",
    "print(name);\n"
   ]
  },
  {
   "cell_type": "code",
   "execution_count": 19,
   "id": "0a7438fe",
   "metadata": {},
   "outputs": [
    {
     "name": "stdout",
     "output_type": "stream",
     "text": [
      "['Maheen', 'Areesha', 'Urooj', 'Arooba']\n"
     ]
    }
   ],
   "source": [
    "name1 = name[2:6];\n",
    "\n",
    "print(name1);"
   ]
  },
  {
   "cell_type": "code",
   "execution_count": 20,
   "id": "27e52bdc",
   "metadata": {},
   "outputs": [
    {
     "name": "stdout",
     "output_type": "stream",
     "text": [
      "['Maheen', 'Areesha', 'Urooj', 'Arooba', 'Harry']\n"
     ]
    }
   ],
   "source": [
    "del name[:2];\n",
    "print(name);"
   ]
  },
  {
   "cell_type": "code",
   "execution_count": 21,
   "id": "45a49e27",
   "metadata": {},
   "outputs": [
    {
     "name": "stdout",
     "output_type": "stream",
     "text": [
      "['Maheen', 'Areesha', 'Arooba', 'Harry']\n"
     ]
    }
   ],
   "source": [
    "name.remove('Urooj');\n",
    "print(name);"
   ]
  },
  {
   "cell_type": "code",
   "execution_count": 22,
   "id": "417db733",
   "metadata": {},
   "outputs": [
    {
     "name": "stdout",
     "output_type": "stream",
     "text": [
      "['Maheen', 'Areesha', 'Arooba']\n"
     ]
    }
   ],
   "source": [
    "name.pop();\n",
    "print(name);"
   ]
  },
  {
   "cell_type": "code",
   "execution_count": 24,
   "id": "3179820b",
   "metadata": {},
   "outputs": [
    {
     "ename": "NameError",
     "evalue": "name 'name3' is not defined",
     "output_type": "error",
     "traceback": [
      "\u001b[1;31m---------------------------------------------------------------------------\u001b[0m",
      "\u001b[1;31mNameError\u001b[0m                                 Traceback (most recent call last)",
      "\u001b[1;32m<ipython-input-24-466aafbca57c>\u001b[0m in \u001b[0;36m<module>\u001b[1;34m\u001b[0m\n\u001b[1;32m----> 1\u001b[1;33m \u001b[0mname3\u001b[0m\u001b[1;33m.\u001b[0m\u001b[0minsert\u001b[0m\u001b[1;33m(\u001b[0m\u001b[1;36m1\u001b[0m\u001b[1;33m,\u001b[0m\u001b[0mname\u001b[0m\u001b[1;33m.\u001b[0m\u001b[0mpop\u001b[0m\u001b[1;33m(\u001b[0m\u001b[1;36m1\u001b[0m\u001b[1;33m)\u001b[0m\u001b[1;33m)\u001b[0m\u001b[1;33m;\u001b[0m\u001b[1;33m\u001b[0m\u001b[1;33m\u001b[0m\u001b[0m\n\u001b[0m\u001b[0;32m      2\u001b[0m \u001b[0mprint\u001b[0m\u001b[1;33m(\u001b[0m\u001b[0mname3\u001b[0m\u001b[1;33m)\u001b[0m\u001b[1;33m;\u001b[0m\u001b[1;33m\u001b[0m\u001b[1;33m\u001b[0m\u001b[0m\n",
      "\u001b[1;31mNameError\u001b[0m: name 'name3' is not defined"
     ]
    }
   ],
   "source": [
    "name3.insert(1,name.pop(1));\n",
    "print(name3);"
   ]
  },
  {
   "cell_type": "code",
   "execution_count": null,
   "id": "7587a9d9",
   "metadata": {},
   "outputs": [],
   "source": []
  }
 ],
 "metadata": {
  "kernelspec": {
   "display_name": "Python 3",
   "language": "python",
   "name": "python3"
  },
  "language_info": {
   "codemirror_mode": {
    "name": "ipython",
    "version": 3
   },
   "file_extension": ".py",
   "mimetype": "text/x-python",
   "name": "python",
   "nbconvert_exporter": "python",
   "pygments_lexer": "ipython3",
   "version": "3.8.8"
  }
 },
 "nbformat": 4,
 "nbformat_minor": 5
}
