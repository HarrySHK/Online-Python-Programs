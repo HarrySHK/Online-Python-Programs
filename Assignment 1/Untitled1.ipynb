{
 "cells": [
  {
   "cell_type": "code",
   "execution_count": 11,
   "id": "adca15de",
   "metadata": {},
   "outputs": [
    {
     "ename": "SyntaxError",
     "evalue": "invalid syntax (<ipython-input-11-e9dd12c4df10>, line 4)",
     "output_type": "error",
     "traceback": [
      "\u001b[1;36m  File \u001b[1;32m\"<ipython-input-11-e9dd12c4df10>\"\u001b[1;36m, line \u001b[1;32m4\u001b[0m\n\u001b[1;33m    elif percent < 90 and percentage > 80:\u001b[0m\n\u001b[1;37m    ^\u001b[0m\n\u001b[1;31mSyntaxError\u001b[0m\u001b[1;31m:\u001b[0m invalid syntax\n"
     ]
    }
   ],
   "source": [
    "percent = 55;\n",
    "if percent < 100 and percentage > 90:\n",
    "    print(\"A+\");\n",
    "    elif percent < 90 and percentage > 80:\n",
    "        print(\"A1\");\n",
    "    elif percent < 80 and percentage > 70:\n",
    "        print(\"A\");\n",
    "    elif percent < 70 and percentage > 60:\n",
    "        print(\"B\");\n",
    "    elif percent < 60 and percentage > 50:\n",
    "        print(\"C\");\n",
    "    elif percent < 0:\n",
    "        print(\"Do not write the wrong Percentage\");\n",
    "    elif percent > 100:\n",
    "        print(\"Do not write the wrong Percentage\");\n",
    "else:\n",
    "    print(\"FAIL\")"
   ]
  },
  {
   "cell_type": "code",
   "execution_count": 23,
   "id": "b82ab2a7",
   "metadata": {},
   "outputs": [
    {
     "name": "stdout",
     "output_type": "stream",
     "text": [
      "FAIL\n"
     ]
    }
   ],
   "source": [
    "percent = 40;\n",
    "if percent < 100 and percent > 90:\n",
    "    print(\"Grade A+\");\n",
    "elif percent < 90 and percent > 80:\n",
    "    print(\"Grade A1\");\n",
    "elif percent < 80 and percent > 70:\n",
    "    print(\"Grade A\");\n",
    "elif percent < 70 and percent > 60:\n",
    "    print(\"Grade B\");\n",
    "elif percent < 60 and percent > 50:\n",
    "    print(\"Grade C\");\n",
    "elif percent < 0:\n",
    "    print(\"Do not write negative percentage\");\n",
    "elif percent > 100:\n",
    "    print(\"Do not write wrong percentage\");\n",
    "else:\n",
    "    print(\"FAIL\")"
   ]
  },
  {
   "cell_type": "code",
   "execution_count": null,
   "id": "768d932f",
   "metadata": {},
   "outputs": [],
   "source": []
  },
  {
   "cell_type": "code",
   "execution_count": null,
   "id": "8b85ceee",
   "metadata": {},
   "outputs": [],
   "source": []
  },
  {
   "cell_type": "code",
   "execution_count": null,
   "id": "a027d056",
   "metadata": {},
   "outputs": [],
   "source": []
  }
 ],
 "metadata": {
  "kernelspec": {
   "display_name": "Python 3",
   "language": "python",
   "name": "python3"
  },
  "language_info": {
   "codemirror_mode": {
    "name": "ipython",
    "version": 3
   },
   "file_extension": ".py",
   "mimetype": "text/x-python",
   "name": "python",
   "nbconvert_exporter": "python",
   "pygments_lexer": "ipython3",
   "version": "3.8.8"
  }
 },
 "nbformat": 4,
 "nbformat_minor": 5
}
