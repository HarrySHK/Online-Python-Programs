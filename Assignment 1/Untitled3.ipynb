{
 "cells": [
  {
   "cell_type": "code",
   "execution_count": 1,
   "id": "908124db",
   "metadata": {},
   "outputs": [
    {
     "name": "stdout",
     "output_type": "stream",
     "text": [
      "Marksheet\n"
     ]
    }
   ],
   "source": [
    "print(\"Marksheet\");"
   ]
  },
  {
   "cell_type": "code",
   "execution_count": 5,
   "id": "c444799c",
   "metadata": {},
   "outputs": [
    {
     "name": "stdout",
     "output_type": "stream",
     "text": [
      "Total Marks = 500\n",
      "Obtained Marks = 249\n",
      "Percentage = 49.8 %\n",
      "FAIL\n"
     ]
    }
   ],
   "source": [
    "english = 49;\n",
    "computer = 50;\n",
    "maths = 50;\n",
    "chemistry = 50;\n",
    "physics = 50;\n",
    "print(\"Total Marks = 500\");\n",
    "total = english + computer + maths + chemistry + physics;\n",
    "print(\"Obtained Marks =\",total);\n",
    "percentage = (total/500)*100;\n",
    "print(\"Percentage =\",percentage,\"%\");\n",
    "\n",
    "grade = percentage;\n",
    "if grade < 100 and grade > 90:\n",
    "    print(\"Grade A+\");\n",
    "elif grade < 90 and grade > 80:\n",
    "    print(\"Grade A1\");\n",
    "elif grade < 80 and grade > 70:\n",
    "    print(\"Grade A\");\n",
    "elif grade < 70 and grade > 60:\n",
    "    print(\"Grade B\");\n",
    "elif grade < 60 and grade > 50:\n",
    "    print(\"Grade C\");\n",
    "elif grade < 0:\n",
    "    print(\"Do not write negative percentage\");\n",
    "elif grade > 100:\n",
    "    print(\"Do not write wrong percentage\");\n",
    "else:\n",
    "    print(\"FAIL\")"
   ]
  },
  {
   "cell_type": "code",
   "execution_count": null,
   "id": "e4fee4f8",
   "metadata": {},
   "outputs": [],
   "source": []
  }
 ],
 "metadata": {
  "kernelspec": {
   "display_name": "Python 3",
   "language": "python",
   "name": "python3"
  },
  "language_info": {
   "codemirror_mode": {
    "name": "ipython",
    "version": 3
   },
   "file_extension": ".py",
   "mimetype": "text/x-python",
   "name": "python",
   "nbconvert_exporter": "python",
   "pygments_lexer": "ipython3",
   "version": "3.8.8"
  }
 },
 "nbformat": 4,
 "nbformat_minor": 5
}
